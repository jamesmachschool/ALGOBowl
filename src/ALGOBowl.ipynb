{
 "cells": [
  {
   "cell_type": "code",
   "execution_count": null,
   "metadata": {},
   "outputs": [],
   "source": [
    "class Subset:\n",
    "    \n",
    "    def _init_(self, subset, weight):\n",
    "        self.subset = subset\n",
    "        self.weight = weight\n",
    "    \n",
    "    def get_subset(self):\n",
    "        return self.subset\n",
    "    \n",
    "    def get_weight(self):\n",
    "        return self.weight\n",
    "    \n",
    "    def contains(self, n):\n",
    "        contains = False\n",
    "        for m in subset:\n",
    "            if m == n:\n",
    "                contains = True\n",
    "        return contains\n",
    "    \n",
    "    def get_size(self):\n",
    "        return len(self.subset)\n",
    "    \n",
    "        \n"
   ]
  }
 ],
 "metadata": {
  "kernelspec": {
   "display_name": "Python 3",
   "language": "python",
   "name": "python3"
  },
  "language_info": {
   "codemirror_mode": {
    "name": "ipython",
    "version": 3
   },
   "file_extension": ".py",
   "mimetype": "text/x-python",
   "name": "python",
   "nbconvert_exporter": "python",
   "pygments_lexer": "ipython3",
   "version": "3.7.1"
  }
 },
 "nbformat": 4,
 "nbformat_minor": 2
}
