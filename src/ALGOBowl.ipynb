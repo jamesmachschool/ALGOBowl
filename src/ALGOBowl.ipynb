{
 "cells": [
  {
   "cell_type": "code",
   "execution_count": 37,
   "metadata": {},
   "outputs": [],
   "source": [
    "class Subset:\n",
    "    \n",
    "    def __init__(self, subset, weight):\n",
    "        self.subset = subset\n",
    "        self.weight = weight\n",
    "    \n",
    "    def get_subset(self):\n",
    "        return self.subset\n",
    "    \n",
    "    def get_weight(self):\n",
    "        return self.weight\n",
    "    \n",
    "    def contains(self, n):\n",
    "        contains = False\n",
    "        for m in subset:\n",
    "            if m == n:\n",
    "                contains = True\n",
    "        return contains\n",
    "\n",
    "    def get_size(self):\n",
    "        return len(self.subset)\n",
    "    \n",
    "    def to_string(self):\n",
    "        output = \"\"\n",
    "        for n in self.subset:\n",
    "            output = output+str(n)+\" \"\n",
    "        output = output + \"\\n\"+str(self.weight)\n",
    "        return output"
   ]
  },
  {
   "cell_type": "code",
   "execution_count": 38,
   "metadata": {},
   "outputs": [],
   "source": [
    "class ALGOBowl:\n",
    "    \n",
    "    def __init__(self):\n",
    "        self.n=0\n",
    "        self.m=0\n",
    "        self.subsets = []\n",
    "\n",
    "    def read_input(self, filename):\n",
    "        file = open(filename,'r')\n",
    "        self.n = int(file.readline())\n",
    "        self.m = int(file.readline())\n",
    "        for i in range(self.m):\n",
    "            temp = []\n",
    "            for string in file.readline().split(\" \"):\n",
    "                temp.append(int(string))\n",
    "            weight = int(file.readline())\n",
    "            ss = Subset(temp,weight)\n",
    "            self.subsets.append(ss)\n",
    "    \n",
    "    def display_data(self):\n",
    "        print(self.n)\n",
    "        print(self.m)\n",
    "        for s in self.subsets:\n",
    "            print(s.to_string())"
   ]
  },
  {
   "cell_type": "code",
   "execution_count": 39,
   "metadata": {},
   "outputs": [
    {
     "name": "stdout",
     "output_type": "stream",
     "text": [
      "5\n",
      "3\n",
      "1 2 3 \n",
      "15\n",
      "4 5 \n",
      "6\n",
      "1 2 3 4 5 \n",
      "26\n"
     ]
    }
   ],
   "source": [
    "#main\n",
    "test = ALGOBowl()\n",
    "test.read_input(\"sample_input.txt\")\n",
    "test.display_data()"
   ]
  }
 ],
 "metadata": {
  "kernelspec": {
   "display_name": "Python 3",
   "language": "python",
   "name": "python3"
  },
  "language_info": {
   "codemirror_mode": {
    "name": "ipython",
    "version": 3
   },
   "file_extension": ".py",
   "mimetype": "text/x-python",
   "name": "python",
   "nbconvert_exporter": "python",
   "pygments_lexer": "ipython3",
   "version": "3.7.1"
  }
 },
 "nbformat": 4,
 "nbformat_minor": 2
}
