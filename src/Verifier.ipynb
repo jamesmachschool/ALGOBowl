{
 "cells": [
  {
   "cell_type": "markdown",
   "metadata": {},
   "source": [
    "# ALGOBOWL - Heuristics for finding solutions\n",
    "## Authors: James Mach, Hayden Sather, Harrison Magee\n",
    "### Group 16 - Team O(G)\n",
    "### Section B"
   ]
  },
  {
   "cell_type": "markdown",
   "metadata": {},
   "source": [
    "Below is the Verifier Class"
   ]
  },
  {
   "cell_type": "code",
   "execution_count": 2,
   "metadata": {
    "collapsed": true
   },
   "outputs": [],
   "source": [
    "class Verifier:\n",
    "    \n",
    "    def __init__(self):\n",
    "        self.n=0\n",
    "        self.m=0\n",
    "        self.all_subsets = []\n",
    "        self.weight = 0\n",
    "        self.IDs = []\n",
    "\n",
    "    def read_input(self, filename):\n",
    "        file = open(filename,'r')\n",
    "        self.n = int(file.readline())\n",
    "        self.m = int(file.readline())\n",
    "        for i in range(1,self.m+1):\n",
    "            temp = []\n",
    "            for string in file.readline().split(\" \"):\n",
    "                if(string == \"\\n\"):\n",
    "                    continue\n",
    "                else:\n",
    "                    temp.append(int(string))\n",
    "            weight = int(file.readline())\n",
    "            ss = Subset(temp,weight,i)\n",
    "            self.all_subsets.append(ss)\n",
    "            \n",
    "    def read_output(self, filename):\n",
    "        file = open(filename, \"r\")\n",
    "        self.weight = int(file.readline())\n",
    "        for ID in file.readline().split(\" \"):\n",
    "            if ID == \"\\n\" or ID == \"\":\n",
    "                continue\n",
    "            self.IDs.append(int(ID))\n",
    "            \n",
    "    def get_solution_subsets(self):\n",
    "        solution = []\n",
    "        for ID in self.IDs:\n",
    "            for s in self.all_subsets:\n",
    "                if s.get_ID() == ID:\n",
    "                    solution.append(s)\n",
    "        return solution\n",
    "            \n",
    "    def verify(self):\n",
    "        solution = self.get_solution_subsets()\n",
    "        weight_check =0\n",
    "        spread_check = set()\n",
    "        for s in solution:\n",
    "            weight_check = weight_check + s.get_weight()\n",
    "            for n in s.get_subset():\n",
    "                spread_check.add(n)\n",
    "         \n",
    "        if self.weight != weight_check:\n",
    "            return \"weight is incorrect\"\n",
    "        for i in range(1,self.n+1):\n",
    "            if not i in spread_check:\n",
    "                return \"not all numbers in the set were cover\"\n",
    "        return \"This is a valid solution\""
   ]
  },
  {
   "cell_type": "markdown",
   "metadata": {},
   "source": [
    "We define a subset class"
   ]
  },
  {
   "cell_type": "code",
   "execution_count": null,
   "metadata": {
    "collapsed": true
   },
   "outputs": [],
   "source": [
    "# helps read in the files\n",
    "class Subset:\n",
    "    \n",
    "    def __init__(self, subset, weight, ID):\n",
    "        self.subset = subset\n",
    "        self.weight = weight\n",
    "        self.ID = ID\n",
    "        \n",
    "    def get_subset(self):\n",
    "        return self.subset\n",
    "    \n",
    "    def get_weight(self):\n",
    "        return self.weight\n",
    "    \n",
    "    def get_ID(self):\n",
    "        return self.ID\n",
    "    \n",
    "    def contains(self, n):\n",
    "        contains = False\n",
    "        for m in subset:\n",
    "            if m == n:\n",
    "                contains = True\n",
    "        return contains\n",
    "\n",
    "    def get_size(self):\n",
    "        return len(self.subset)\n",
    "    \n",
    "    def to_string(self):\n",
    "        output = \"\"\n",
    "        for n in self.subset:\n",
    "            output = output+str(n)+\" \"\n",
    "        output = output + \"\\n\"+str(self.weight)\n",
    "        return output"
   ]
  },
  {
   "cell_type": "markdown",
   "metadata": {},
   "source": [
    "Below is our main"
   ]
  },
  {
   "cell_type": "code",
   "execution_count": 3,
   "metadata": {
    "collapsed": true
   },
   "outputs": [],
   "source": [
    "#main\n",
    "ext = \".txt\"\n",
    "output = \"_output.txt\"\n",
    "inputs = \"input_group\"\n",
    "for i in range (113,134):\n",
    "    v = Verifier()\n",
    "    v.read_input(inputs[index]+ext)\n",
    "    v.read_output(inputs[index]+output)\n",
    "    print(v.verify())\n"
   ]
  }
 ],
 "metadata": {
  "kernelspec": {
   "display_name": "Python 3",
   "language": "python",
   "name": "python3"
  },
  "language_info": {
   "codemirror_mode": {
    "name": "ipython",
    "version": 3
   },
   "file_extension": ".py",
   "mimetype": "text/x-python",
   "name": "python",
   "nbconvert_exporter": "python",
   "pygments_lexer": "ipython3",
   "version": "3.6.3"
  }
 },
 "nbformat": 4,
 "nbformat_minor": 2
}
