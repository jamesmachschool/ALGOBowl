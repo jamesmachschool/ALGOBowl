{
 "cells": [
  {
   "cell_type": "code",
   "execution_count": null,
   "metadata": {},
   "outputs": [],
   "source": [
    "class Verifier:\n",
    "    \n",
    "    def __init__(self):\n",
    "        self.n=0\n",
    "        self.m=0\n",
    "        self.subsets = []\n",
    "        self.weight = 0\n",
    "        self.IDs = []\n",
    "\n",
    "    def read_input(self, filename):\n",
    "        file = open(filename,'r')\n",
    "        self.n = int(file.readline())\n",
    "        self.m = int(file.readline())\n",
    "        for i in range(1,self.m+1):\n",
    "            temp = []\n",
    "            for string in file.readline().split(\" \"):\n",
    "                if(string == \"\\n\"):\n",
    "                    continue\n",
    "                else:\n",
    "                    temp.append(int(string))\n",
    "            weight = int(file.readline())\n",
    "            ss = Subset(temp,weight,i)\n",
    "            self.subsets.append(ss)\n",
    "            \n",
    "    def read_output(self, filename):\n",
    "        file = open(filename, \"r\")\n",
    "        self.weight = int(file.readline())\n",
    "        for ID in file.readline().split(\" \"):\n",
    "            if ID == \"\\n\":\n",
    "                continue\n",
    "            IDs.append(int(ID))\n",
    "        \n",
    "    \n",
    "    "
   ]
  }
 ],
 "metadata": {
  "kernelspec": {
   "display_name": "Python 3",
   "language": "python",
   "name": "python3"
  },
  "language_info": {
   "codemirror_mode": {
    "name": "ipython",
    "version": 3
   },
   "file_extension": ".py",
   "mimetype": "text/x-python",
   "name": "python",
   "nbconvert_exporter": "python",
   "pygments_lexer": "ipython3",
   "version": "3.7.1"
  }
 },
 "nbformat": 4,
 "nbformat_minor": 2
}
