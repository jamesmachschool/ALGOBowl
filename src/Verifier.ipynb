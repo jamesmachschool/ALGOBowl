{
 "cells": [
  {
   "cell_type": "code",
   "execution_count": 2,
   "metadata": {},
   "outputs": [],
   "source": [
    "# class Verifier:\n",
    "    \n",
    "#     def __init__(self):\n",
    "#         self.n=0\n",
    "#         self.m=0\n",
    "#         self.all_subsets = []\n",
    "#         self.weight = 0\n",
    "#         self.IDs = []\n",
    "\n",
    "#     def read_input(self, filename):\n",
    "#         file = open(filename,'r')\n",
    "#         self.n = int(file.readline())\n",
    "#         self.m = int(file.readline())\n",
    "#         for i in range(1,self.m+1):\n",
    "#             temp = []\n",
    "#             for string in file.readline().split(\" \"):\n",
    "#                 if(string == \"\\n\"):\n",
    "#                     continue\n",
    "#                 else:\n",
    "#                     temp.append(int(string))\n",
    "#             weight = int(file.readline())\n",
    "#             ss = Subset(temp,weight,i)\n",
    "#             self.all_subsets.append(ss)\n",
    "            \n",
    "#     def read_output(self, filename):\n",
    "#         file = open(filename, \"r\")\n",
    "#         self.weight = int(file.readline())\n",
    "#         for ID in file.readline().split(\" \"):\n",
    "#             if ID == \"\\n\":\n",
    "#                 continue\n",
    "#             IDs.append(int(ID))\n",
    "            \n",
    "#     def get_solution_subsets(self):\n",
    "#         solution = []\n",
    "#         for ID in self.IDs:\n",
    "#             for s in self.all_subsets:\n",
    "#                 if s.get_ID() == ID:\n",
    "#                     solution.append(s)\n",
    "#         return soltuion\n",
    "            \n",
    "#     def verify(self):\n",
    "#         solution = self.get_solution_subsets()\n",
    "#         weight_check =0\n",
    "#         spread_check = set()\n",
    "#         for s in solution:\n",
    "#             weight_check = weight_check + s.get_weight()\n",
    "#             for n in s.get_subset():\n",
    "#                 spread_check.add(n)\n",
    "         \n",
    "#         if self.weight != weight_check:\n",
    "#             return False\n",
    "#         for i in range(1,self.n+1):\n",
    "#             if not i in spread_check:\n",
    "#                 return False\n",
    "#         return True\n",
    "        \n",
    "        \n",
    "        \n",
    "        \n",
    "    \n",
    "    "
   ]
  },
  {
   "cell_type": "code",
   "execution_count": 3,
   "metadata": {},
   "outputs": [],
   "source": [
    "#main\n",
    "# v = Verifier()\n",
    "# v.read_input(\"easy.txt\")\n",
    "# v.read_output(\"easy_output.txt\")\n",
    "# print(v.verify())"
   ]
  }
 ],
 "metadata": {
  "kernelspec": {
   "display_name": "Python 3",
   "language": "python",
   "name": "python3"
  },
  "language_info": {
   "codemirror_mode": {
    "name": "ipython",
    "version": 3
   },
   "file_extension": ".py",
   "mimetype": "text/x-python",
   "name": "python",
   "nbconvert_exporter": "python",
   "pygments_lexer": "ipython3",
   "version": "3.7.1"
  }
 },
 "nbformat": 4,
 "nbformat_minor": 2
}
